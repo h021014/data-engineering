{
 "cells": [
  {
   "cell_type": "markdown",
   "id": "d049968e-d6ea-4313-a691-fc5c62535623",
   "metadata": {},
   "source": [
    "# Create Some Lists:"
   ]
  },
  {
   "cell_type": "code",
   "execution_count": 2,
   "id": "22214e48-dd58-4604-aa66-bf0a01650b41",
   "metadata": {},
   "outputs": [
    {
     "name": "stdout",
     "output_type": "stream",
     "text": [
      "['physics', 'calculus', 'poetry', 'history']\n"
     ]
    }
   ],
   "source": [
    "subjects = [\"physics\",\"calculus\",\"poetry\",\"history\"]\n",
    "\n",
    "print(subjects)"
   ]
  },
  {
   "cell_type": "code",
   "execution_count": 4,
   "id": "1042dbcf-2cdf-4e4f-be1c-0b200ee03bf1",
   "metadata": {},
   "outputs": [
    {
     "name": "stdout",
     "output_type": "stream",
     "text": [
      "[98, 97, 95, 88]\n"
     ]
    }
   ],
   "source": [
    "grades = [98, 97, 95, 88]\n",
    "\n",
    "print(grades)"
   ]
  },
  {
   "cell_type": "code",
   "execution_count": 6,
   "id": "e019ebd6-76bf-48ed-9c92-870ea710c511",
   "metadata": {},
   "outputs": [
    {
     "name": "stdout",
     "output_type": "stream",
     "text": [
      "[['physics', 98], ['calculus', 97], ['poetry', 85], ['history', 88]]\n"
     ]
    }
   ],
   "source": [
    "gradebook = [[\"physics\",98], [\"calculus\",97], [\"poetry\",85], [\"history\",88]]\n",
    "\n",
    "print(gradebook)"
   ]
  },
  {
   "cell_type": "code",
   "execution_count": 8,
   "id": "0c5a3681-43e8-4b38-8e65-ea680c159636",
   "metadata": {},
   "outputs": [
    {
     "name": "stdout",
     "output_type": "stream",
     "text": [
      "[['physics', 98], ['calculus', 97], ['poetry', 85], ['history', 88], ['computer science', 100]]\n"
     ]
    }
   ],
   "source": [
    "# subjects.append(\"computer science\")\n",
    "# grades.append(100)\n",
    "\n",
    "# print(subjects)\n",
    "# print(grades)\n",
    "\n",
    "gradebook.append([\"computer science\",100])\n",
    "\n",
    "print(gradebook)"
   ]
  },
  {
   "cell_type": "code",
   "execution_count": 10,
   "id": "5b087bd8-2322-48ea-9e34-f5348b639706",
   "metadata": {},
   "outputs": [
    {
     "name": "stdout",
     "output_type": "stream",
     "text": [
      "[['physics', 98], ['calculus', 97], ['poetry', 85], ['history', 88], ['computer science', 100], ['visual arts', 93]]\n"
     ]
    }
   ],
   "source": [
    "# subjects.append(\"visual arts\")\n",
    "# grades.append(93)\n",
    "\n",
    "# print(subjects)\n",
    "# print(grades)\n",
    "\n",
    "gradebook.append([\"visual arts\",93])\n",
    "\n",
    "print(gradebook)"
   ]
  },
  {
   "cell_type": "markdown",
   "id": "5c2195b3-5802-4161-8d47-2db3b7a68038",
   "metadata": {},
   "source": [
    "# Modify The Gradebook:"
   ]
  },
  {
   "cell_type": "code",
   "execution_count": 13,
   "id": "c0fc1663-810c-4aea-a30a-cf942b9d0d5e",
   "metadata": {},
   "outputs": [
    {
     "name": "stdout",
     "output_type": "stream",
     "text": [
      "[['physics', 98], ['calculus', 97], ['poetry', 85], ['history', 88], ['computer science', 100], ['visual arts', 98]]\n"
     ]
    }
   ],
   "source": [
    "gradebook[5][1] += 5\n",
    "\n",
    "print(gradebook)"
   ]
  },
  {
   "cell_type": "code",
   "execution_count": 17,
   "id": "cc5eddc3-9b23-4b27-8dce-9d47bb612306",
   "metadata": {},
   "outputs": [],
   "source": [
    "for i in gradebook:\n",
    "    if i [0] == \"poetry\":\n",
    "        i.remove(85)\n",
    "        i.append(\"Pass\")"
   ]
  },
  {
   "cell_type": "code",
   "execution_count": 19,
   "id": "be6a69ce-10ae-49b2-a951-ed46e30f85f9",
   "metadata": {},
   "outputs": [
    {
     "name": "stdout",
     "output_type": "stream",
     "text": [
      "[['physics', 98], ['calculus', 97], ['poetry', 'Pass'], ['history', 88], ['computer science', 100], ['visual arts', 98]]\n"
     ]
    }
   ],
   "source": [
    "print(gradebook)"
   ]
  },
  {
   "cell_type": "markdown",
   "id": "33bb54de-a908-4cb6-9ac9-8197e98dfc64",
   "metadata": {},
   "source": [
    "# One Big Gradebook!"
   ]
  },
  {
   "cell_type": "code",
   "execution_count": 22,
   "id": "b99e40ec-1ee7-4546-8ccc-1d218443330a",
   "metadata": {},
   "outputs": [
    {
     "name": "stdout",
     "output_type": "stream",
     "text": [
      "[['politics', 80], ['latin', 96], ['dance', 97], ['architecture', 65]]\n"
     ]
    }
   ],
   "source": [
    "last_semester_gradebook = [[\"politics\", 80], [\"latin\", 96], [\"dance\", 97], [\"architecture\", 65]]\n",
    "\n",
    "print(last_semester_gradebook)"
   ]
  },
  {
   "cell_type": "code",
   "execution_count": 24,
   "id": "096cbd21-f270-4707-b50b-693105abfc47",
   "metadata": {},
   "outputs": [
    {
     "name": "stdout",
     "output_type": "stream",
     "text": [
      "[['politics', 80], ['latin', 96], ['dance', 97], ['architecture', 65], ['physics', 98], ['calculus', 97], ['poetry', 'Pass'], ['history', 88], ['computer science', 100], ['visual arts', 98]]\n"
     ]
    }
   ],
   "source": [
    "full_gradebook = last_semester_gradebook + gradebook\n",
    "\n",
    "print(full_gradebook)"
   ]
  },
  {
   "cell_type": "code",
   "execution_count": null,
   "id": "a80a99ba-98a8-4fe8-a4fc-1ea001e64da6",
   "metadata": {},
   "outputs": [],
   "source": []
  }
 ],
 "metadata": {
  "kernelspec": {
   "display_name": "Python 3 (ipykernel)",
   "language": "python",
   "name": "python3"
  },
  "language_info": {
   "codemirror_mode": {
    "name": "ipython",
    "version": 3
   },
   "file_extension": ".py",
   "mimetype": "text/x-python",
   "name": "python",
   "nbconvert_exporter": "python",
   "pygments_lexer": "ipython3",
   "version": "3.12.4"
  }
 },
 "nbformat": 4,
 "nbformat_minor": 5
}
