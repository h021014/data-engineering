{
 "cells": [
  {
   "cell_type": "markdown",
   "id": "0130d98c-3d22-44c3-a816-331a64d347eb",
   "metadata": {},
   "source": [
    "# Adding In The Catalog"
   ]
  },
  {
   "cell_type": "code",
   "execution_count": 2,
   "id": "5ac8335f-cd62-435e-9895-0798153c941e",
   "metadata": {},
   "outputs": [
    {
     "name": "stdout",
     "output_type": "stream",
     "text": [
      "Lovely Loveseat. Tufted polyester blend on wood. 32 inches high x 40 inches wide x 30 inches deep. Red or white.\n"
     ]
    }
   ],
   "source": [
    "lovely_loveseat_description = \"Lovely Loveseat. Tufted polyester blend on wood. 32 inches high x 40 inches wide x 30 inches deep. Red or white.\"\n",
    "\n",
    "print(lovely_loveseat_description)"
   ]
  },
  {
   "cell_type": "code",
   "execution_count": 3,
   "id": "77c320af-9aa8-4c5b-a226-82fb24b264c8",
   "metadata": {},
   "outputs": [
    {
     "name": "stdout",
     "output_type": "stream",
     "text": [
      "254.0\n"
     ]
    }
   ],
   "source": [
    "lovely_loveseat_price = 254.00\n",
    "\n",
    "print(lovely_loveseat_price)"
   ]
  },
  {
   "cell_type": "code",
   "execution_count": 4,
   "id": "56872352-d535-4abf-a2dd-a75fbbf09077",
   "metadata": {},
   "outputs": [
    {
     "name": "stdout",
     "output_type": "stream",
     "text": [
      "Stylish Settee. Faux leather on birch. 29.50 inches high x 54.75 inches wide x 28 inches deep. Black.\n"
     ]
    }
   ],
   "source": [
    "style_sete_description = \"Stylish Settee. Faux leather on birch. 29.50 inches high x 54.75 inches wide x 28 inches deep. Black.\"\n",
    "\n",
    "print(style_sete_description)"
   ]
  },
  {
   "cell_type": "code",
   "execution_count": 5,
   "id": "56a496fb-5750-468b-9b38-0c0e04666caf",
   "metadata": {},
   "outputs": [
    {
     "name": "stdout",
     "output_type": "stream",
     "text": [
      "180.5\n"
     ]
    }
   ],
   "source": [
    "stylish_settee_price = 180.50\n",
    "\n",
    "print(stylish_settee_price)"
   ]
  },
  {
   "cell_type": "code",
   "execution_count": 6,
   "id": "dd56f620-019a-4127-8d17-3662e69db690",
   "metadata": {},
   "outputs": [
    {
     "name": "stdout",
     "output_type": "stream",
     "text": [
      "Luxurious Lamp. Glass and iron. 36 inches tall. Brown with cream shade.\n"
     ]
    }
   ],
   "source": [
    "luxurious_lamp_description = \"Luxurious Lamp. Glass and iron. 36 inches tall. Brown with cream shade.\"\n",
    "\n",
    "print(luxurious_lamp_description)"
   ]
  },
  {
   "cell_type": "code",
   "execution_count": 7,
   "id": "7f574df3-60e8-4d36-a341-7cc5a2152be2",
   "metadata": {},
   "outputs": [
    {
     "name": "stdout",
     "output_type": "stream",
     "text": [
      "52.15\n"
     ]
    }
   ],
   "source": [
    "luxurious_lamp_price = 52.15\n",
    "\n",
    "print(luxurious_lamp_price)"
   ]
  },
  {
   "cell_type": "code",
   "execution_count": 8,
   "id": "505b726a-71dd-46ee-85c3-bc4b6120f17b",
   "metadata": {},
   "outputs": [
    {
     "name": "stdout",
     "output_type": "stream",
     "text": [
      "0.088\n"
     ]
    }
   ],
   "source": [
    "# 8.8퍼센트\n",
    "sales_tax = 0.088\n",
    "\n",
    "print(sales_tax)"
   ]
  },
  {
   "cell_type": "markdown",
   "id": "e9a9a672-dffb-4e39-802b-7ac33ab9feb0",
   "metadata": {},
   "source": [
    "# Our First Customer"
   ]
  },
  {
   "cell_type": "code",
   "execution_count": 39,
   "id": "cbd965ae-3195-4434-a6c3-4a9d4d1bfd74",
   "metadata": {},
   "outputs": [
    {
     "name": "stdout",
     "output_type": "stream",
     "text": [
      "0.0\n"
     ]
    }
   ],
   "source": [
    "customer_one_total = 0.00\n",
    "\n",
    "print(customer_one_total)"
   ]
  },
  {
   "cell_type": "code",
   "execution_count": 41,
   "id": "a71ba7e3-6ba7-4b68-b535-b2b847738949",
   "metadata": {},
   "outputs": [
    {
     "name": "stdout",
     "output_type": "stream",
     "text": [
      "\n"
     ]
    }
   ],
   "source": [
    "customer_one_itemization = \"\"\n",
    "\n",
    "print(customer_one_itemization)"
   ]
  },
  {
   "cell_type": "code",
   "execution_count": 43,
   "id": "8d1f6029-0476-4609-97de-6061ed8e1451",
   "metadata": {},
   "outputs": [
    {
     "name": "stdout",
     "output_type": "stream",
     "text": [
      "254.0\n"
     ]
    }
   ],
   "source": [
    "customer_one_total += lovely_loveseat_price\n",
    "\n",
    "print(customer_one_total)"
   ]
  },
  {
   "cell_type": "code",
   "execution_count": 45,
   "id": "131db498-f5a3-4fa4-af5e-6c6aa903a5fc",
   "metadata": {},
   "outputs": [
    {
     "name": "stdout",
     "output_type": "stream",
     "text": [
      "Lovely Loveseat. Tufted polyester blend on wood. 32 inches high x 40 inches wide x 30 inches deep. Red or white.\n"
     ]
    }
   ],
   "source": [
    "customer_one_itemization += lovely_loveseat_description\n",
    "\n",
    "print(customer_one_itemization)"
   ]
  },
  {
   "cell_type": "code",
   "execution_count": 47,
   "id": "e15c9e85-7721-45ba-9ad1-be3b50c0bfed",
   "metadata": {},
   "outputs": [
    {
     "name": "stdout",
     "output_type": "stream",
     "text": [
      "306.15\n"
     ]
    }
   ],
   "source": [
    "customer_one_total += luxurious_lamp_price \n",
    "\n",
    "print(customer_one_total)"
   ]
  },
  {
   "cell_type": "code",
   "execution_count": 49,
   "id": "1217718f-824b-4036-bc5d-8872f3388171",
   "metadata": {},
   "outputs": [
    {
     "name": "stdout",
     "output_type": "stream",
     "text": [
      "Lovely Loveseat. Tufted polyester blend on wood. 32 inches high x 40 inches wide x 30 inches deep. Red or white.Luxurious Lamp. Glass and iron. 36 inches tall. Brown with cream shade.\n"
     ]
    }
   ],
   "source": [
    "customer_one_itemization += luxurious_lamp_description\n",
    "\n",
    "print(customer_one_itemization)"
   ]
  },
  {
   "cell_type": "code",
   "execution_count": 51,
   "id": "edb453f3-87c4-4ca3-a883-866f29574bf7",
   "metadata": {},
   "outputs": [
    {
     "name": "stdout",
     "output_type": "stream",
     "text": [
      "26.941199999999995\n"
     ]
    }
   ],
   "source": [
    "customer_one_tax = customer_one_total * sales_tax\n",
    "\n",
    "print(customer_one_tax)"
   ]
  },
  {
   "cell_type": "code",
   "execution_count": 53,
   "id": "159fa295-ebf0-48a6-b134-c3e6c98543ff",
   "metadata": {},
   "outputs": [
    {
     "name": "stdout",
     "output_type": "stream",
     "text": [
      "333.09119999999996\n"
     ]
    }
   ],
   "source": [
    "customer_one_total += customer_one_tax\n",
    "\n",
    "print(customer_one_total)"
   ]
  },
  {
   "cell_type": "code",
   "execution_count": 55,
   "id": "8f5f8793-336d-4478-ad30-622028472bc1",
   "metadata": {},
   "outputs": [
    {
     "name": "stdout",
     "output_type": "stream",
     "text": [
      "Customer One Items:\n",
      "Lovely Loveseat. Tufted polyester blend on wood. 32 inches high x 40 inches wide x 30 inches deep. Red or white.Luxurious Lamp. Glass and iron. 36 inches tall. Brown with cream shade.\n",
      "Customer One Total:\n",
      "333.09119999999996\n"
     ]
    }
   ],
   "source": [
    "print(\"Customer One Items:\")\n",
    "print(customer_one_itemization)\n",
    "\n",
    "print(\"Customer One Total:\")\n",
    "print(customer_one_total)"
   ]
  },
  {
   "cell_type": "code",
   "execution_count": null,
   "id": "658443bd-d656-4cc9-b8a6-e4307de47a0e",
   "metadata": {},
   "outputs": [],
   "source": []
  }
 ],
 "metadata": {
  "kernelspec": {
   "display_name": "Python 3 (ipykernel)",
   "language": "python",
   "name": "python3"
  },
  "language_info": {
   "codemirror_mode": {
    "name": "ipython",
    "version": 3
   },
   "file_extension": ".py",
   "mimetype": "text/x-python",
   "name": "python",
   "nbconvert_exporter": "python",
   "pygments_lexer": "ipython3",
   "version": "3.12.4"
  }
 },
 "nbformat": 4,
 "nbformat_minor": 5
}
