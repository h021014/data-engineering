{
 "cells": [
  {
   "cell_type": "code",
   "execution_count": 19,
   "id": "d36f1f94-9050-4497-bfec-ab94a83f089f",
   "metadata": {},
   "outputs": [
    {
     "name": "stdout",
     "output_type": "stream",
     "text": [
      "['bouffant', 'pixie', 'dreadlocks', 'crew', 'bowl', 'bob', 'mohawk', 'flattop'] [30, 25, 40, 20, 20, 35, 50, 35] [2, 3, 5, 8, 4, 4, 6, 2]\n"
     ]
    }
   ],
   "source": [
    "hairstyles = [\"bouffant\", \"pixie\", \"dreadlocks\", \"crew\", \"bowl\", \"bob\", \"mohawk\", \"flattop\"]\n",
    "\n",
    "prices = [30, 25, 40, 20, 20, 35, 50, 35]\n",
    "\n",
    "last_week = [2, 3, 5, 8, 4, 4, 6, 2]\n",
    "\n",
    "print(hairstyles,prices,last_week)\n",
    "\n",
    "# 같은위치에 있는게 서로 연결? 연관?되어있다"
   ]
  },
  {
   "cell_type": "code",
   "execution_count": 21,
   "id": "7f35bd0f-1b0f-4a66-89d1-629382c1b311",
   "metadata": {},
   "outputs": [],
   "source": [
    "total_price = 0\n",
    "for price in prices:\n",
    "    total_price += price"
   ]
  },
  {
   "cell_type": "code",
   "execution_count": 23,
   "id": "da052475-527c-44d8-a1a4-c48a4be8aa59",
   "metadata": {},
   "outputs": [
    {
     "name": "stdout",
     "output_type": "stream",
     "text": [
      "Averge price is 31.875\n"
     ]
    }
   ],
   "source": [
    "average_price = total_price / len(prices)\n",
    "\n",
    "print(\"Averge price is\", average_price)"
   ]
  },
  {
   "cell_type": "code",
   "execution_count": 25,
   "id": "9702142a-dae6-4807-ad66-ed21418a48a8",
   "metadata": {},
   "outputs": [
    {
     "name": "stdout",
     "output_type": "stream",
     "text": [
      "[25, 20, 35, 15, 15, 30, 45, 30]\n"
     ]
    }
   ],
   "source": [
    "new_prices = [ price -5 for price in prices]\n",
    "\n",
    "print(new_prices)"
   ]
  },
  {
   "cell_type": "code",
   "execution_count": 29,
   "id": "9a4a9bb0-fcbb-44c4-9925-32685264e295",
   "metadata": {},
   "outputs": [
    {
     "name": "stdout",
     "output_type": "stream",
     "text": [
      "Total revenue is 1085\n"
     ]
    }
   ],
   "source": [
    "total_revenue = 0\n",
    "\n",
    "for i in range(len(hairstyles)):\n",
    "    total_revenue += prices[i] * last_week[i]\n",
    "\n",
    "print(\"Total revenue is\", total_revenue)"
   ]
  },
  {
   "cell_type": "code",
   "execution_count": 31,
   "id": "a6d5111b-4b20-493f-a23d-fddcd8e1c726",
   "metadata": {},
   "outputs": [
    {
     "name": "stdout",
     "output_type": "stream",
     "text": [
      "Average daily revenue is 155.0\n"
     ]
    }
   ],
   "source": [
    "average_daily_revenue = total_revenue / 7\n",
    "\n",
    "print(\"Average daily revenue is\", average_daily_revenue)"
   ]
  },
  {
   "cell_type": "code",
   "execution_count": 33,
   "id": "82efbeff-2ea7-4864-b54f-a7a23923e215",
   "metadata": {},
   "outputs": [],
   "source": [
    "cuts_under_30 = [hairstyles[i] \n",
    "                 for i in range(len(new_prices)) \n",
    "                     if new_prices[i] < 30]"
   ]
  },
  {
   "cell_type": "code",
   "execution_count": 35,
   "id": "e8a19ac2-43d8-49dd-8c9c-0f9c1dac781c",
   "metadata": {},
   "outputs": [
    {
     "name": "stdout",
     "output_type": "stream",
     "text": [
      "['bouffant', 'pixie', 'crew', 'bowl']\n"
     ]
    }
   ],
   "source": [
    "print(cuts_under_30)"
   ]
  },
  {
   "cell_type": "code",
   "execution_count": null,
   "id": "0b0b509e-8ce5-4d6c-a8aa-fa172c3f6c38",
   "metadata": {},
   "outputs": [],
   "source": []
  }
 ],
 "metadata": {
  "kernelspec": {
   "display_name": "Python 3 (ipykernel)",
   "language": "python",
   "name": "python3"
  },
  "language_info": {
   "codemirror_mode": {
    "name": "ipython",
    "version": 3
   },
   "file_extension": ".py",
   "mimetype": "text/x-python",
   "name": "python",
   "nbconvert_exporter": "python",
   "pygments_lexer": "ipython3",
   "version": "3.12.4"
  }
 },
 "nbformat": 4,
 "nbformat_minor": 5
}
