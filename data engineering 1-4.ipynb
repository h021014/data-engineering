{
 "cells": [
  {
   "cell_type": "code",
   "execution_count": 9,
   "id": "085b0c1d-e6b1-4cbe-a15e-18047c7ba7d8",
   "metadata": {},
   "outputs": [],
   "source": [
    "def get_my_chosun_name(family_name, month, day):\n",
    "\n",
    "    month1 = ['쌍', '쇠', '복', '돌', '팽', '육', '쌍', '개', '칠', '갑', '삼', '방']\n",
    "    day1 = ['봉', '구', '욕', '포', '똥', '삼', '식', '석', '놈', '님', '년', '돌', '단', '득', '방', '질', '장', '걸', '래', '룡', '동', '순', '자', '박', '창', '언', '것', '포', '만', '단', '국']\n",
    "\n",
    "    month2 = month1[month-1]\n",
    "    day2 = day1[day-1]\n",
    "\n",
    "    chosun_name = family_name + month2 + day2\n",
    "    return f\"당신의 조선시대 이름은 {chosun_name} 입니다.\"\n"
   ]
  },
  {
   "cell_type": "code",
   "execution_count": 11,
   "id": "a7e5d0f8-605a-4895-a5b5-84aff766718b",
   "metadata": {},
   "outputs": [
    {
     "data": {
      "text/plain": [
       "'당신의 조선시대 이름은 안칠걸 입니다.'"
      ]
     },
     "execution_count": 11,
     "metadata": {},
     "output_type": "execute_result"
    }
   ],
   "source": [
    "get_my_chosun_name('안',9, 18)"
   ]
  },
  {
   "cell_type": "code",
   "execution_count": null,
   "id": "bddc6194-3c55-4bdb-8e50-9ae70d6793f9",
   "metadata": {},
   "outputs": [],
   "source": []
  }
 ],
 "metadata": {
  "kernelspec": {
   "display_name": "Python 3 (ipykernel)",
   "language": "python",
   "name": "python3"
  },
  "language_info": {
   "codemirror_mode": {
    "name": "ipython",
    "version": 3
   },
   "file_extension": ".py",
   "mimetype": "text/x-python",
   "name": "python",
   "nbconvert_exporter": "python",
   "pygments_lexer": "ipython3",
   "version": "3.12.4"
  }
 },
 "nbformat": 4,
 "nbformat_minor": 5
}
